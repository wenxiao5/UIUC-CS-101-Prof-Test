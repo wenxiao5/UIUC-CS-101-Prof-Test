{
 "cells": [
  {
   "cell_type": "markdown",
   "id": "a3097f50",
   "metadata": {},
   "source": [
    "## Itertools Revisited"
   ]
  },
  {
   "cell_type": "markdown",
   "id": "08ae2543",
   "metadata": {},
   "source": [
    "### itertools.combinations\n",
    "Use combinations when we want to carry out analysis on each subset of a group."
   ]
  },
  {
   "cell_type": "code",
   "execution_count": 1,
   "id": "45379c9a",
   "metadata": {},
   "outputs": [
    {
     "name": "stdout",
     "output_type": "stream",
     "text": [
      "('A', 'B')\n",
      "('A', 'C')\n",
      "('A', 'D')\n",
      "('B', 'C')\n",
      "('B', 'D')\n",
      "('C', 'D')\n"
     ]
    }
   ],
   "source": [
    "from itertools import combinations\n",
    "for pair in combinations( 'ABCD',2 ):\n",
    "    print( pair )"
   ]
  },
  {
   "cell_type": "markdown",
   "id": "33d7c20e",
   "metadata": {},
   "source": [
    "### itertools.permutations\n",
    "In contrast to itertools.combinations (which preserves order), we use permutations when we want all of the elements in every possible order:"
   ]
  },
  {
   "cell_type": "code",
   "execution_count": 2,
   "id": "41a528e1",
   "metadata": {
    "scrolled": true
   },
   "outputs": [
    {
     "name": "stdout",
     "output_type": "stream",
     "text": [
      "('A', 'B', 'C')\n",
      "('A', 'B', 'D')\n",
      "('A', 'C', 'B')\n",
      "('A', 'C', 'D')\n",
      "('A', 'D', 'B')\n",
      "('A', 'D', 'C')\n",
      "('B', 'A', 'C')\n",
      "('B', 'A', 'D')\n",
      "('B', 'C', 'A')\n",
      "('B', 'C', 'D')\n",
      "('B', 'D', 'A')\n",
      "('B', 'D', 'C')\n",
      "('C', 'A', 'B')\n",
      "('C', 'A', 'D')\n",
      "('C', 'B', 'A')\n",
      "('C', 'B', 'D')\n",
      "('C', 'D', 'A')\n",
      "('C', 'D', 'B')\n",
      "('D', 'A', 'B')\n",
      "('D', 'A', 'C')\n",
      "('D', 'B', 'A')\n",
      "('D', 'B', 'C')\n",
      "('D', 'C', 'A')\n",
      "('D', 'C', 'B')\n"
     ]
    }
   ],
   "source": [
    "from itertools import permutations\n",
    "for triplet in permutations( 'ABCD',3 ):\n",
    "    print( triplet )"
   ]
  },
  {
   "cell_type": "markdown",
   "id": "2ac724b0",
   "metadata": {},
   "source": [
    "### itertools.product\n",
    "itertools.product mimics a nested for loop."
   ]
  },
  {
   "cell_type": "code",
   "execution_count": 4,
   "id": "98407d6c",
   "metadata": {},
   "outputs": [
    {
     "name": "stdout",
     "output_type": "stream",
     "text": [
      "a A\n",
      "a B\n",
      "a C\n",
      "b A\n",
      "b B\n",
      "b C\n",
      "c A\n",
      "c B\n",
      "c C\n"
     ]
    }
   ],
   "source": [
    "from itertools import product\n",
    "for a,b in product( 'abc','ABC' ):\n",
    "    print( a,b )"
   ]
  },
  {
   "cell_type": "markdown",
   "id": "bbe1ced8",
   "metadata": {},
   "source": [
    "## scipy.optimize.brute\n",
    "scipy.optimize.brute can be used to find a brute-force solution to a function of one or more variables. (Note that this applies to continuous domains, not discrete ones.) brute evaluates the function across a grid of points, which means it can miss fine details."
   ]
  },
  {
   "cell_type": "code",
   "execution_count": 5,
   "id": "9924b596",
   "metadata": {},
   "outputs": [
    {
     "data": {
      "image/png": "[encoded data removed]",
      "text/plain": [
       "<Figure size 432x288 with 1 Axes>"
      ]
     },
     "metadata": {
      "needs_background": "light"
     },
     "output_type": "display_data"
    }
   ],
   "source": [
    "import numpy as np\n",
    "def f( x ):\n",
    "    return 10 + x ** 2 - 10 * np.cos( 2 * np.pi * x )\n",
    "\n",
    "import matplotlib.pyplot as plt\n",
    "x = np.linspace( -5,5,501 )\n",
    "y = f( x )\n",
    "plt.plot( x,y,'r-' )\n",
    "plt.show()"
   ]
  },
  {
   "cell_type": "code",
   "execution_count": 8,
   "id": "6b997ecb",
   "metadata": {},
   "outputs": [
    {
     "name": "stdout",
     "output_type": "stream",
     "text": [
      "[-1.98988744]\n"
     ]
    }
   ],
   "source": [
    "import scipy.optimize as spo\n",
    "result = spo.brute( f,( ( -5,5 ), ))\n",
    "print( result )"
   ]
  },
  {
   "cell_type": "code",
   "execution_count": 9,
   "id": "11e7a4d1",
   "metadata": {
    "collapsed": true
   },
   "outputs": [
    {
     "name": "stdout",
     "output_type": "stream",
     "text": [
      "(array([-1.98988744]), 3.9798313122836664, array([-5.        , -4.47368421, -3.94736842, -3.42105263, -2.89473684,\n",
      "       -2.36842105, -1.84210526, -1.31578947, -0.78947368, -0.26315789,\n",
      "        0.26315789,  0.78947368,  1.31578947,  1.84210526,  2.36842105,\n",
      "        2.89473684,  3.42105263,  3.94736842,  4.47368421,  5.        ]), array([25.        , 39.87746345, 16.12354503, 30.49833862, 10.48809629,\n",
      "       22.382234  ,  7.92387022, 15.74825619,  8.16841383, 10.89504553,\n",
      "       10.89504553,  8.16841383, 15.74825619,  7.92387022, 22.382234  ,\n",
      "       10.48809629, 30.49833862, 16.12354503, 39.87746345, 25.        ]))\n"
     ]
    }
   ],
   "source": [
    "result = spo.brute( f,( ( -5,5 ), ),full_output=True )\n",
    "print( result )"
   ]
  },
  {
   "cell_type": "code",
   "execution_count": 10,
   "id": "c3912360",
   "metadata": {
    "collapsed": true
   },
   "outputs": [
    {
     "name": "stdout",
     "output_type": "stream",
     "text": [
      "(array([0.]), 0.0, array([-5.        , -4.58333333, -4.16666667, -3.75      , -3.33333333,\n",
      "       -2.91666667, -2.5       , -2.08333333, -1.66666667, -1.25      ,\n",
      "       -0.83333333, -0.41666667,  0.        ,  0.41666667,  0.83333333,\n",
      "        1.25      ,  1.66666667,  2.08333333,  2.5       ,  2.91666667,\n",
      "        3.33333333,  3.75      ,  4.16666667,  4.58333333,  5.        ]), array([25.        , 39.66719848, 22.36111111, 24.0625    , 26.11111111,\n",
      "        9.84669041, 26.25      ,  5.68002374, 17.77777778, 11.5625    ,\n",
      "        5.69444444, 18.83386515,  0.        , 18.83386515,  5.69444444,\n",
      "       11.5625    , 17.77777778,  5.68002374, 26.25      ,  9.84669041,\n",
      "       26.11111111, 24.0625    , 22.36111111, 39.66719848, 25.        ]))\n"
     ]
    }
   ],
   "source": [
    "result = spo.brute( f,( ( -5,5 ), ),full_output=True,Ns=25 )\n",
    "print( result )"
   ]
  },
  {
   "cell_type": "markdown",
   "id": "a9987ab3",
   "metadata": {},
   "source": [
    "### example"
   ]
  },
  {
   "cell_type": "code",
   "execution_count": 13,
   "id": "7cf163ec",
   "metadata": {},
   "outputs": [],
   "source": [
    "def f( x ):\n",
    "    return np.cos(x)+2+x**3-3*x"
   ]
  },
  {
   "cell_type": "code",
   "execution_count": 15,
   "id": "3fd10eaf",
   "metadata": {},
   "outputs": [
    {
     "name": "stdout",
     "output_type": "stream",
     "text": [
      "[1.14155016]\n"
     ]
    }
   ],
   "source": [
    "result = spo.brute( f,( ( 0,5 ), ))\n",
    "print( result )"
   ]
  },
  {
   "cell_type": "code",
   "execution_count": 20,
   "id": "a1f637c7",
   "metadata": {},
   "outputs": [
    {
     "data": {
      "image/png": "[encoded data removed]",
      "text/plain": [
       "<Figure size 432x288 with 1 Axes>"
      ]
     },
     "metadata": {
      "needs_background": "light"
     },
     "output_type": "display_data"
    }
   ],
   "source": [
    "def f( x ):\n",
    "    return -np.exp(-x**2)-np.sin(x)\n",
    "x = np.linspace( -10,10,501 )\n",
    "y = f( x )\n",
    "plt.plot( x,y,'r-' )\n",
    "plt.show()"
   ]
  },
  {
   "cell_type": "code",
   "execution_count": 21,
   "id": "158cfb80",
   "metadata": {},
   "outputs": [
    {
     "name": "stdout",
     "output_type": "stream",
     "text": [
      "[0.58778783]\n"
     ]
    }
   ],
   "source": [
    "result = spo.brute( f,( ( -10,10 ), ))\n",
    "print( result )"
   ]
  },
  {
   "cell_type": "code",
   "execution_count": 22,
   "id": "f69364c2",
   "metadata": {},
   "outputs": [
    {
     "data": {
      "image/png": "[encoded data removed]",
      "text/plain": [
       "<Figure size 432x288 with 1 Axes>"
      ]
     },
     "metadata": {
      "needs_background": "light"
     },
     "output_type": "display_data"
    }
   ],
   "source": [
    "import scipy\n",
    "x = np.linspace( -4,10,501 )\n",
    "y = scipy.special.bei(x)\n",
    "plt.plot( x,y,'r-' )\n",
    "plt.show()"
   ]
  },
  {
   "cell_type": "code",
   "execution_count": 23,
   "id": "01ca7050",
   "metadata": {},
   "outputs": [
    {
     "name": "stdout",
     "output_type": "stream",
     "text": [
      "[8.28099686]\n"
     ]
    }
   ],
   "source": [
    "result = spo.brute( scipy.special.bei,( ( -4,10 ), ))\n",
    "print( result )"
   ]
  },
  {
   "cell_type": "code",
   "execution_count": 30,
   "id": "197c6b44",
   "metadata": {},
   "outputs": [],
   "source": [
    "import numpy as np\n",
    "def eqn( x ):\n",
    "    '''\n",
    "    Represent the equation cos(x) + 2 = x^3 - x^2\n",
    "    '''\n",
    "    return ( np.sin(x)+2*x+1 ) - ( x**3/4 - 2*x**2+x )"
   ]
  },
  {
   "cell_type": "code",
   "execution_count": 33,
   "id": "2b68a7a2",
   "metadata": {},
   "outputs": [],
   "source": [
    "def dfdx( f,x,h=1e-3 ):\n",
    "    return ( f( x+h ) - f( x ) ) / h\n",
    "\n",
    "def newton( f,x0,tol=1e-3 ):\n",
    "    d = abs( 0 - f( x0 ) )\n",
    "    while d > tol:\n",
    "        x0 = x0 - f( x0 ) / dfdx( f,x0 )\n",
    "        d = abs( 0 - f( x0 ) )\n",
    "    return ( x0,f( x0 ) )"
   ]
  },
  {
   "cell_type": "code",
   "execution_count": 34,
   "id": "16067db2",
   "metadata": {},
   "outputs": [
    {
     "data": {
      "text/plain": [
       "(8.563074197470577, -1.1358509190984023e-06)"
      ]
     },
     "execution_count": 34,
     "metadata": {},
     "output_type": "execute_result"
    }
   ],
   "source": [
    "newton( eqn,0)"
   ]
  },
  {
   "cell_type": "code",
   "execution_count": 28,
   "id": "da84b274",
   "metadata": {},
   "outputs": [],
   "source": [
    "def linspace(a,b,n=10):\n",
    "    t=(b-a)*1.0/n\n",
    "    r=[]\n",
    "    for i in range(n):\n",
    "        r.append(a+i*t)\n",
    "    r.append(b)\n",
    "    return r"
   ]
  },
  {
   "cell_type": "code",
   "execution_count": 29,
   "id": "f4ef82e5",
   "metadata": {},
   "outputs": [
    {
     "data": {
      "text/plain": [
       "[0.0,\n",
       " 0.1,\n",
       " 0.2,\n",
       " 0.30000000000000004,\n",
       " 0.4,\n",
       " 0.5,\n",
       " 0.6000000000000001,\n",
       " 0.7000000000000001,\n",
       " 0.8,\n",
       " 0.9,\n",
       " 1]"
      ]
     },
     "execution_count": 29,
     "metadata": {},
     "output_type": "execute_result"
    }
   ],
   "source": [
    "linspace(0,1,10)"
   ]
  },
  {
   "cell_type": "code",
   "execution_count": null,
   "id": "33277787",
   "metadata": {},
   "outputs": [],
   "source": []
  },
  {
   "cell_type": "code",
   "execution_count": null,
   "id": "15ea28f2",
   "metadata": {},
   "outputs": [],
   "source": []
  },
  {
   "cell_type": "code",
   "execution_count": null,
   "id": "6691b2c3",
   "metadata": {},
   "outputs": [],
   "source": []
  },
  {
   "cell_type": "code",
   "execution_count": null,
   "id": "d2f33184",
   "metadata": {},
   "outputs": [],
   "source": []
  },
  {
   "cell_type": "code",
   "execution_count": null,
   "id": "c70c7e0b",
   "metadata": {},
   "outputs": [],
   "source": []
  },
  {
   "cell_type": "code",
   "execution_count": null,
   "id": "0c8cc31b",
   "metadata": {},
   "outputs": [],
   "source": []
  },
  {
   "cell_type": "code",
   "execution_count": null,
   "id": "e2439824",
   "metadata": {},
   "outputs": [],
   "source": []
  },
  {
   "cell_type": "code",
   "execution_count": null,
   "id": "5836e265",
   "metadata": {},
   "outputs": [],
   "source": []
  },
  {
   "cell_type": "code",
   "execution_count": null,
   "id": "58d3922a",
   "metadata": {},
   "outputs": [],
   "source": []
  },
  {
   "cell_type": "code",
   "execution_count": null,
   "id": "1888cfd0",
   "metadata": {},
   "outputs": [],
   "source": []
  }
 ],
 "metadata": {
  "kernelspec": {
   "display_name": "Python 3",
   "language": "python",
   "name": "python3"
  },
  "language_info": {
   "codemirror_mode": {
    "name": "ipython",
    "version": 3
   },
   "file_extension": ".py",
   "mimetype": "text/x-python",
   "name": "python",
   "nbconvert_exporter": "python",
   "pygments_lexer": "ipython3",
   "version": "3.8.8"
  },
  "latex_envs": {
   "LaTeX_envs_menu_present": true,
   "autoclose": true,
   "autocomplete": true,
   "bibliofile": "biblio.bib",
   "cite_by": "apalike",
   "current_citInitial": 1,
   "eqLabelWithNumbers": true,
   "eqNumInitial": 1,
   "hotkeys": {
    "equation": "e,q,enter"
   },
   "labels_anchors": false,
   "latex_user_defs": false,
   "report_style_numbering": false,
   "user_envs_cfg": false
  },
  "toc": {
   "base_numbering": 1,
   "nav_menu": {},
   "number_sections": true,
   "sideBar": true,
   "skip_h1_title": false,
   "title_cell": "Table of Contents",
   "title_sidebar": "Contents",
   "toc_cell": false,
   "toc_position": {},
   "toc_section_display": true,
   "toc_window_display": false
  },
  "varInspector": {
   "cols": {
    "lenName": 16,
    "lenType": 16,
    "lenVar": 40
   },
   "kernels_config": {
    "python": {
     "delete_cmd_postfix": "",
     "delete_cmd_prefix": "del ",
     "library": "var_list.py",
     "varRefreshCmd": "print(var_dic_list())"
    },
    "r": {
     "delete_cmd_postfix": ") ",
     "delete_cmd_prefix": "rm(",
     "library": "var_list.r",
     "varRefreshCmd": "cat(var_dic_list()) "
    }
   },
   "types_to_exclude": [
    "module",
    "function",
    "builtin_function_or_method",
    "instance",
    "_Feature"
   ],
   "window_display": false
  }
 },
 "nbformat": 4,
 "nbformat_minor": 5
}
