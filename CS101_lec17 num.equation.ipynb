{
 "cells": [
  {
   "cell_type": "markdown",
   "id": "083f78cd",
   "metadata": {},
   "source": [
    "## Timing Function Calls"
   ]
  },
  {
   "cell_type": "code",
   "execution_count": 9,
   "id": "165ec7f9",
   "metadata": {},
   "outputs": [],
   "source": [
    "import numpy as np"
   ]
  },
  {
   "cell_type": "code",
   "execution_count": 5,
   "id": "eb2b149b",
   "metadata": {},
   "outputs": [],
   "source": [
    "import numpy.random as npr\n",
    "def series_pi( n ):\n",
    "    result = 0\n",
    "    for k in range( 1,n ):\n",
    "        term = ( ( -1 ) ** ( k+1 ) ) / ( 2 * k - 1 )\n",
    "        result += term\n",
    "    return result*4"
   ]
  },
  {
   "cell_type": "code",
   "execution_count": 6,
   "id": "ab74ce1d",
   "metadata": {},
   "outputs": [
    {
     "name": "stdout",
     "output_type": "stream",
     "text": [
      "35.6 ms ± 401 µs per loop (mean ± std. dev. of 7 runs, 10 loops each)\n"
     ]
    }
   ],
   "source": [
    "%timeit  series_pi( int(1e5) )"
   ]
  },
  {
   "cell_type": "markdown",
   "id": "0da3ae3b",
   "metadata": {},
   "source": [
    "## Locating Function Zeroes"
   ]
  },
  {
   "cell_type": "markdown",
   "id": "1d8078b0",
   "metadata": {},
   "source": [
    "### Newton's method"
   ]
  },
  {
   "cell_type": "code",
   "execution_count": 7,
   "id": "28522ad1",
   "metadata": {},
   "outputs": [],
   "source": [
    "def dfdx( f,x,h=1e-3 ):\n",
    "    return ( f( x+h ) - f( x ) ) / h\n",
    "\n",
    "def newton( f,x0,tol=1e-3 ):\n",
    "    d = abs( 0 - f( x0 ) )\n",
    "    while d > tol:\n",
    "        x0 = x0 - f( x0 ) / dfdx( f,x0 )\n",
    "        d = abs( 0 - f( x0 ) )\n",
    "    return ( x0,f( x0 ) )"
   ]
  },
  {
   "cell_type": "code",
   "execution_count": 10,
   "id": "babd4c39",
   "metadata": {},
   "outputs": [
    {
     "data": {
      "text/plain": [
       "(1.6753617365950546, -5.238065699630923e-06)"
      ]
     },
     "execution_count": 10,
     "metadata": {},
     "output_type": "execute_result"
    }
   ],
   "source": [
    "def eqn( x ):\n",
    "    '''\n",
    "    Represent the equation cos(x) + 2 = x^3 - x^2\n",
    "    '''\n",
    "    return ( np.cos( x ) + 2 ) - ( x**3 - x**2 )\n",
    "\n",
    "newton( eqn,0 )"
   ]
  },
  {
   "cell_type": "markdown",
   "id": "68499348",
   "metadata": {},
   "source": [
    "## Locating Function Minima"
   ]
  },
  {
   "cell_type": "markdown",
   "id": "2a45b75e",
   "metadata": {},
   "source": [
    "### scipy.optimize.minimize( f,x0 )"
   ]
  },
  {
   "cell_type": "code",
   "execution_count": 11,
   "id": "f357a2bb",
   "metadata": {},
   "outputs": [
    {
     "data": {
      "image/png": "[encoded data removed]",
      "text/plain": [
       "<Figure size 432x288 with 1 Axes>"
      ]
     },
     "metadata": {
      "needs_background": "light"
     },
     "output_type": "display_data"
    }
   ],
   "source": [
    "import matplotlib.pyplot as plt\n",
    "import numpy as np\n",
    "import scipy.optimize\n",
    "\n",
    "def f( x ):\n",
    "    return x**2 + x - 1\n",
    "\n",
    "x = np.linspace( -10,10,1000 )\n",
    "xstar = scipy.optimize.minimize( f,x0=3 )\n",
    "\n",
    "plt.plot( x,f( x ),'r--', xstar[ 'x' ],f( xstar[ 'x' ] ),'ro' )\n",
    "plt.show()"
   ]
  },
  {
   "cell_type": "code",
   "execution_count": 38,
   "id": "f31ce1ed",
   "metadata": {},
   "outputs": [],
   "source": [
    "def f( x ):\n",
    "    return -x**(1/x)\n",
    "\n",
    "x = np.linspace( 0,1000000,1000000 )\n",
    "xstar = scipy.optimize.minimize( f,x0=1 )"
   ]
  },
  {
   "cell_type": "code",
   "execution_count": 39,
   "id": "c4e9f332",
   "metadata": {
    "scrolled": true
   },
   "outputs": [
    {
     "data": {
      "text/plain": [
       "array([2.71817479])"
      ]
     },
     "execution_count": 39,
     "metadata": {},
     "output_type": "execute_result"
    }
   ],
   "source": [
    "xstar['x']"
   ]
  },
  {
   "cell_type": "code",
   "execution_count": null,
   "id": "7d8e2acb",
   "metadata": {},
   "outputs": [],
   "source": []
  },
  {
   "cell_type": "markdown",
   "id": "17d98485",
   "metadata": {},
   "source": [
    "### Check Collinearity of Three Points 验证三点共线"
   ]
  },
  {
   "cell_type": "code",
   "execution_count": 41,
   "id": "7362e78b",
   "metadata": {},
   "outputs": [],
   "source": [
    "def col_area( x1,y1,x2,y2,x3,y3 ):\n",
    "    col = np.isclose( ( x1-x3 ) * ( y2 - y3 ),( x2-x3 ) * ( y1-y3 ) )\n",
    "    return col"
   ]
  },
  {
   "cell_type": "code",
   "execution_count": null,
   "id": "3e77c848",
   "metadata": {},
   "outputs": [],
   "source": []
  },
  {
   "cell_type": "code",
   "execution_count": null,
   "id": "b31443ca",
   "metadata": {},
   "outputs": [],
   "source": []
  },
  {
   "cell_type": "code",
   "execution_count": null,
   "id": "fff4bf14",
   "metadata": {},
   "outputs": [],
   "source": []
  }
 ],
 "metadata": {
  "kernelspec": {
   "display_name": "Python 3",
   "language": "python",
   "name": "python3"
  },
  "language_info": {
   "codemirror_mode": {
    "name": "ipython",
    "version": 3
   },
   "file_extension": ".py",
   "mimetype": "text/x-python",
   "name": "python",
   "nbconvert_exporter": "python",
   "pygments_lexer": "ipython3",
   "version": "3.8.8"
  }
 },
 "nbformat": 4,
 "nbformat_minor": 5
}
