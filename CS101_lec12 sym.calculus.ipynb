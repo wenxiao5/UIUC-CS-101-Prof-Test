{
 "cells": [
  {
   "cell_type": "markdown",
   "id": "c7eb9340",
   "metadata": {},
   "source": [
    "## Differentiation"
   ]
  },
  {
   "cell_type": "code",
   "execution_count": 24,
   "id": "895df258",
   "metadata": {},
   "outputs": [
    {
     "data": {
      "image/png": "[encoded data removed]",
      "text/latex": [
       "$\\displaystyle 2 x$"
      ],
      "text/plain": [
       "2⋅x"
      ]
     },
     "execution_count": 24,
     "metadata": {},
     "output_type": "execute_result"
    }
   ],
   "source": [
    "import sympy\n",
    "sympy.init_printing()\n",
    "x = sympy.S( 'x' )\n",
    "sympy.diff( x**2,x )"
   ]
  },
  {
   "cell_type": "code",
   "execution_count": 27,
   "id": "9d0337e2",
   "metadata": {},
   "outputs": [
    {
     "data": {
      "image/png": "[encoded data removed]",
      "text/latex": [
       "$\\displaystyle 4 x^{3} - \\sin{\\left(\\sin{\\left(x \\right)} \\right)} \\cos{\\left(x \\right)}$"
      ],
      "text/plain": [
       "   3                     \n",
       "4⋅x  - sin(sin(x))⋅cos(x)"
      ]
     },
     "execution_count": 27,
     "metadata": {},
     "output_type": "execute_result"
    }
   ],
   "source": [
    "sympy.init_printing()\n",
    "sympy.diff( x**4+sympy.cos(sympy.sin(x)),x )"
   ]
  },
  {
   "cell_type": "code",
   "execution_count": 49,
   "id": "b5c13a8f",
   "metadata": {},
   "outputs": [
    {
     "data": {
      "image/png": "[encoded data removed]",
      "text/latex": [
       "$\\displaystyle x^{y} \\log{\\left(x \\right)}$"
      ],
      "text/plain": [
       " y       \n",
       "x ⋅log(x)"
      ]
     },
     "execution_count": 49,
     "metadata": {},
     "output_type": "execute_result"
    }
   ],
   "source": [
    "x,y = sympy.S( 'x,y' )\n",
    "sympy.diff( x**y,y )#关于y求导"
   ]
  },
  {
   "cell_type": "code",
   "execution_count": 50,
   "id": "0d4c11ca",
   "metadata": {},
   "outputs": [
    {
     "data": {
      "image/png": "[encoded data removed]",
      "text/latex": [
       "$\\displaystyle \\frac{x^{y} y}{x}$"
      ],
      "text/plain": [
       " y  \n",
       "x ⋅y\n",
       "────\n",
       " x  "
      ]
     },
     "execution_count": 50,
     "metadata": {},
     "output_type": "execute_result"
    }
   ],
   "source": [
    "sympy.diff( x**y,x )#关于x求导"
   ]
  },
  {
   "cell_type": "code",
   "execution_count": 51,
   "id": "005ce908",
   "metadata": {},
   "outputs": [
    {
     "data": {
      "image/png": "[encoded data removed]",
      "text/latex": [
       "$\\displaystyle \\frac{x^{y} y \\left(y - 1\\right)}{x^{2}}$"
      ],
      "text/plain": [
       " y          \n",
       "x ⋅y⋅(y - 1)\n",
       "────────────\n",
       "      2     \n",
       "     x      "
      ]
     },
     "execution_count": 51,
     "metadata": {},
     "output_type": "execute_result"
    }
   ],
   "source": [
    "sympy.diff( x**y,x,2 )#关于x求二阶导"
   ]
  },
  {
   "cell_type": "markdown",
   "id": "9105f173",
   "metadata": {},
   "source": [
    "## Integration"
   ]
  },
  {
   "cell_type": "code",
   "execution_count": 52,
   "id": "b467a749",
   "metadata": {},
   "outputs": [
    {
     "data": {
      "image/png": "[encoded data removed]",
      "text/latex": [
       "$\\displaystyle \\frac{x^{3}}{3}$"
      ],
      "text/plain": [
       " 3\n",
       "x \n",
       "──\n",
       "3 "
      ]
     },
     "execution_count": 52,
     "metadata": {},
     "output_type": "execute_result"
    }
   ],
   "source": [
    "sympy.integrate( x**2,x )#对x不定积分"
   ]
  },
  {
   "cell_type": "code",
   "execution_count": 53,
   "id": "95785c7c",
   "metadata": {},
   "outputs": [
    {
     "data": {
      "image/png": "[encoded data removed]",
      "text/latex": [
       "$\\displaystyle \\begin{cases} \\frac{x^{y + 1}}{y + 1} & \\text{for}\\: y \\neq -1 \\\\\\log{\\left(x \\right)} & \\text{otherwise} \\end{cases}$"
      ],
      "text/plain": [
       "⎧ y + 1            \n",
       "⎪x                 \n",
       "⎪──────  for y ≠ -1\n",
       "⎨y + 1             \n",
       "⎪                  \n",
       "⎪log(x)  otherwise \n",
       "⎩                  "
      ]
     },
     "execution_count": 53,
     "metadata": {},
     "output_type": "execute_result"
    }
   ],
   "source": [
    "sympy.integrate( x**y,x )"
   ]
  },
  {
   "cell_type": "code",
   "execution_count": 54,
   "id": "c1ff233d",
   "metadata": {},
   "outputs": [
    {
     "data": {
      "image/png": "[encoded data removed]",
      "text/latex": [
       "$\\displaystyle 1$"
      ],
      "text/plain": [
       "1"
      ]
     },
     "execution_count": 54,
     "metadata": {},
     "output_type": "execute_result"
    }
   ],
   "source": [
    "sympy.integrate( sympy.cos( x ),( x,0,sympy.pi/2 ) )#对x求定积分"
   ]
  },
  {
   "cell_type": "code",
   "execution_count": 55,
   "id": "93a02636",
   "metadata": {},
   "outputs": [
    {
     "data": {
      "image/png": "[encoded data removed]",
      "text/latex": [
       "$\\displaystyle - 2 \\sin{\\left(1 \\right)} \\cos{\\left(1 \\right)} + 5$"
      ],
      "text/plain": [
       "-2⋅sin(1)⋅cos(1) + 5"
      ]
     },
     "execution_count": 55,
     "metadata": {},
     "output_type": "execute_result"
    }
   ],
   "source": [
    "sympy.integrate( sympy.integrate( 2*sympy.sin(x)**2+3*y,( x,-1,+1 ) ),( y,0,1 ) )\n",
    "#对x,y求多重积分"
   ]
  },
  {
   "cell_type": "code",
   "execution_count": 56,
   "id": "456d23fb",
   "metadata": {},
   "outputs": [
    {
     "data": {
      "image/png": "[encoded data removed]",
      "text/latex": [
       "$\\displaystyle \\frac{11000}{3}$"
      ],
      "text/plain": [
       "11000/3"
      ]
     },
     "execution_count": 56,
     "metadata": {},
     "output_type": "execute_result"
    }
   ],
   "source": [
    "import sympy\n",
    "x,y = sympy.S( 'x,y' )\n",
    "volume=sympy.integrate( sympy.integrate(20+ (x**2-10*sympy.cos(2*sympy.pi*x))+(y**2-10*sympy.cos(2*sympy.pi*y)),(x,-5,5) ),( y,-5,5 ) )\n",
    "volume"
   ]
  },
  {
   "cell_type": "markdown",
   "id": "d49eff63",
   "metadata": {},
   "source": [
    "## Taylor Series Expansion"
   ]
  },
  {
   "cell_type": "code",
   "execution_count": 57,
   "id": "fbbd0c98",
   "metadata": {},
   "outputs": [
    {
     "data": {
      "image/png": "[encoded data removed]",
      "text/latex": [
       "$\\displaystyle 1 + x + x^{2} + x^{3} + O\\left(x^{4}\\right)$"
      ],
      "text/plain": [
       "         2    3    ⎛ 4⎞\n",
       "1 + x + x  + x  + O⎝x ⎠"
      ]
     },
     "execution_count": 57,
     "metadata": {},
     "output_type": "execute_result"
    }
   ],
   "source": [
    "x = sympy.S( 'x' )\n",
    "f = 1 / ( 1 - x )\n",
    "sympy.series( f,x,0,4 )"
   ]
  },
  {
   "cell_type": "markdown",
   "id": "7dae37d2",
   "metadata": {},
   "source": [
    "## Linearization by Taylor Series"
   ]
  },
  {
   "cell_type": "code",
   "execution_count": 58,
   "id": "931f7740",
   "metadata": {},
   "outputs": [],
   "source": [
    "x,a = sympy.S( 'x,a' )"
   ]
  },
  {
   "cell_type": "code",
   "execution_count": 59,
   "id": "be37a03a",
   "metadata": {},
   "outputs": [
    {
     "data": {
      "image/png": "[encoded data removed]",
      "text/latex": [
       "$\\displaystyle \\sqrt{x}$"
      ],
      "text/plain": [
       "√x"
      ]
     },
     "execution_count": 59,
     "metadata": {},
     "output_type": "execute_result"
    }
   ],
   "source": [
    "f = sympy.sqrt( x )\n",
    "f"
   ]
  },
  {
   "cell_type": "code",
   "execution_count": 60,
   "id": "490570ba",
   "metadata": {},
   "outputs": [
    {
     "data": {
      "image/png": "[encoded data removed]",
      "text/latex": [
       "$\\displaystyle \\frac{- a + x}{2 \\sqrt{a}} + \\sqrt{a} + O\\left(\\left(- a + x\\right)^{2}; x\\rightarrow a\\right)$"
      ],
      "text/plain": [
       "-a + x         ⎛        2       ⎞\n",
       "────── + √a + O⎝(-a + x) ; x → a⎠\n",
       " 2⋅√a                            "
      ]
     },
     "execution_count": 60,
     "metadata": {},
     "output_type": "execute_result"
    }
   ],
   "source": [
    "fhat = sympy.series( f,x,a,2 )\n",
    "fhat"
   ]
  },
  {
   "cell_type": "code",
   "execution_count": 61,
   "id": "754427b1",
   "metadata": {},
   "outputs": [
    {
     "data": {
      "image/png": "[encoded data removed]",
      "text/latex": [
       "$\\displaystyle \\sqrt{a} + \\frac{- a + x}{2 \\sqrt{a}}$"
      ],
      "text/plain": [
       "     -a + x\n",
       "√a + ──────\n",
       "      2⋅√a "
      ]
     },
     "execution_count": 61,
     "metadata": {},
     "output_type": "execute_result"
    }
   ],
   "source": [
    "fhat = fhat.removeO()\n",
    "fhat"
   ]
  },
  {
   "cell_type": "markdown",
   "id": "28d5a85e",
   "metadata": {},
   "source": [
    "## Physical Expressions"
   ]
  },
  {
   "cell_type": "code",
   "execution_count": 62,
   "id": "9c887a88",
   "metadata": {},
   "outputs": [
    {
     "data": {
      "image/png": "[encoded data removed]",
      "text/latex": [
       "$\\displaystyle \\sqrt{2}$"
      ],
      "text/plain": [
       "√2"
      ]
     },
     "execution_count": 62,
     "metadata": {},
     "output_type": "execute_result"
    }
   ],
   "source": [
    "x = sympy.S( 'x' )\n",
    "sympy.sqrt( x ).subs( x,2 )"
   ]
  },
  {
   "cell_type": "code",
   "execution_count": 63,
   "id": "a00f5d89",
   "metadata": {},
   "outputs": [
    {
     "data": {
      "image/png": "[encoded data removed]",
      "text/latex": [
       "$\\displaystyle \\left[ \\frac{p_{atm} - p_{vapor}}{h}\\right]$"
      ],
      "text/plain": [
       "⎡pₐₜₘ - pᵥₐₚₒᵣ⎤\n",
       "⎢─────────────⎥\n",
       "⎣      h      ⎦"
      ]
     },
     "execution_count": 63,
     "metadata": {},
     "output_type": "execute_result"
    }
   ],
   "source": [
    "p_atm,g,h,p_vapor = sympy.S( 'p_atm,gamma_,h,p_vapor' )\n",
    "g_soln = sympy.solve( p_atm - ( g * h + p_vapor ),g)\n",
    "g_soln"
   ]
  },
  {
   "cell_type": "code",
   "execution_count": 64,
   "id": "61782310",
   "metadata": {},
   "outputs": [
    {
     "data": {
      "image/png": "[encoded data removed]",
      "text/plain": [
       "<Figure size 432x288 with 1 Axes>"
      ]
     },
     "metadata": {
      "needs_background": "light"
     },
     "output_type": "display_data"
    },
    {
     "data": {
      "text/plain": [
       "<sympy.plotting.plot.Plot at 0x7ff57a4252e0>"
      ]
     },
     "execution_count": 64,
     "metadata": {},
     "output_type": "execute_result"
    }
   ],
   "source": [
    "h = sympy.S( 'h' )\n",
    "P_eqn = 101325 * sympy.exp( -0.284 * h / ( 8.314 * 288.15 ) )\n",
    "sympy.plotting.plot( P_eqn,( h,0,11000 ) )"
   ]
  },
  {
   "cell_type": "code",
   "execution_count": 65,
   "id": "95e97d31",
   "metadata": {},
   "outputs": [
    {
     "data": {
      "image/png": "[encoded data removed]",
      "text/latex": [
       "$\\displaystyle - \\pi r_{i}^{2} v_{z} + \\pi r_{o}^{2} v_{z}$"
      ],
      "text/plain": [
       "      2           2    \n",
       "- π⋅rᵢ ⋅v_z + π⋅rₒ ⋅v_z"
      ]
     },
     "execution_count": 65,
     "metadata": {},
     "output_type": "execute_result"
    }
   ],
   "source": [
    "r_i,r_o,r,v_z = sympy.S( 'r_i,r_o,r,v_z' )\n",
    "Q = sympy.integrate( v_z * 2 * sympy.pi * r,( r,r_i,r_o ) )\n",
    "Q"
   ]
  },
  {
   "cell_type": "code",
   "execution_count": 66,
   "id": "68c6f39d",
   "metadata": {},
   "outputs": [
    {
     "data": {
      "image/png": "[encoded data removed]",
      "text/latex": [
       "$\\displaystyle \\pi v_{z} \\left(- r_{i}^{2} + r_{o}^{2}\\right)$"
      ],
      "text/plain": [
       "      ⎛    2     2⎞\n",
       "π⋅v_z⋅⎝- rᵢ  + rₒ ⎠"
      ]
     },
     "execution_count": 66,
     "metadata": {},
     "output_type": "execute_result"
    }
   ],
   "source": [
    "Q_soln = sympy.simplify( Q )\n",
    "Q_soln"
   ]
  },
  {
   "cell_type": "code",
   "execution_count": 67,
   "id": "a5b2167e",
   "metadata": {},
   "outputs": [
    {
     "data": {
      "image/png": "[encoded data removed]",
      "text/latex": [
       "$\\displaystyle \\frac{\\sqrt{2} \\sqrt{\\frac{- r_{i}^{2} + r_{o}^{2}}{\\log{\\left(\\frac{r_{o}}{r_{i}} \\right)}}}}{2}$"
      ],
      "text/plain": [
       "          _____________\n",
       "         ╱     2     2 \n",
       "        ╱  - rᵢ  + rₒ  \n",
       "√2⋅    ╱   ─────────── \n",
       "      ╱         ⎛rₒ⎞   \n",
       "     ╱       log⎜──⎟   \n",
       "   ╲╱           ⎝rᵢ⎠   \n",
       "───────────────────────\n",
       "           2           "
      ]
     },
     "execution_count": 67,
     "metadata": {},
     "output_type": "execute_result"
    }
   ],
   "source": [
    "r_i,r_o = sympy.S( 'r_i,r_o' )\n",
    "r_m = sympy.sqrt( ( r_o**2 - r_i**2 ) / ( 2 * sympy.log( r_o/r_i ) ) )\n",
    "r_m"
   ]
  },
  {
   "cell_type": "code",
   "execution_count": 68,
   "id": "1ef40a84",
   "metadata": {},
   "outputs": [
    {
     "data": {
      "image/png": "[encoded data removed]",
      "text/latex": [
       "$\\displaystyle \\frac{\\sqrt{6}}{2 \\sqrt{\\log{\\left(2 \\right)}}}$"
      ],
      "text/plain": [
       "     √6     \n",
       "────────────\n",
       "    ________\n",
       "2⋅╲╱ log(2) "
      ]
     },
     "execution_count": 68,
     "metadata": {},
     "output_type": "execute_result"
    }
   ],
   "source": [
    "r_m_soln = r_m.subs( r_o,2 ).subs( r_i,1 )\n",
    "r_m_soln"
   ]
  },
  {
   "cell_type": "markdown",
   "id": "487659bb",
   "metadata": {},
   "source": [
    "## Symbolic Functions"
   ]
  },
  {
   "cell_type": "markdown",
   "id": "81920675",
   "metadata": {},
   "source": [
    "The expressions generated by 'sympy' are great, but to really be useful we need a way of converting them back to regular Python functions. The oddly-named 'lambdify' function can do this."
   ]
  },
  {
   "cell_type": "code",
   "execution_count": 69,
   "id": "4c887b6c",
   "metadata": {},
   "outputs": [
    {
     "data": {
      "image/png": "[encoded data removed]",
      "text/latex": [
       "$\\displaystyle 257 \\cdot 255^{\\frac{3}{4}} \\sqrt[4]{a}$"
      ],
      "text/plain": [
       "       3/4 4 ___\n",
       "257⋅255   ⋅╲╱ a "
      ]
     },
     "execution_count": 69,
     "metadata": {},
     "output_type": "execute_result"
    }
   ],
   "source": [
    "a = sympy.S( 'a' )\n",
    "expr = ( 2 ** 16 - 1 ) * sympy.root( a / ( 2 ** 8 - 1 ),4 )\n",
    "expr"
   ]
  },
  {
   "cell_type": "code",
   "execution_count": 70,
   "id": "9e5f53dc",
   "metadata": {},
   "outputs": [
    {
     "data": {
      "image/png": "[encoded data removed]",
      "text/latex": [
       "$\\displaystyle 32799.5778651338$"
      ],
      "text/plain": [
       "32799.57786513384"
      ]
     },
     "execution_count": 70,
     "metadata": {},
     "output_type": "execute_result"
    }
   ],
   "source": [
    "f = sympy.lambdify( [ a ],expr )\n",
    "f(16)"
   ]
  },
  {
   "cell_type": "code",
   "execution_count": null,
   "id": "f1ca621e",
   "metadata": {},
   "outputs": [],
   "source": []
  },
  {
   "cell_type": "code",
   "execution_count": null,
   "id": "f97b762e",
   "metadata": {},
   "outputs": [],
   "source": []
  },
  {
   "cell_type": "code",
   "execution_count": null,
   "id": "17518cf9",
   "metadata": {},
   "outputs": [],
   "source": []
  }
 ],
 "metadata": {
  "kernelspec": {
   "display_name": "Python 3",
   "language": "python",
   "name": "python3"
  },
  "language_info": {
   "codemirror_mode": {
    "name": "ipython",
    "version": 3
   },
   "file_extension": ".py",
   "mimetype": "text/x-python",
   "name": "python",
   "nbconvert_exporter": "python",
   "pygments_lexer": "ipython3",
   "version": "3.8.8"
  }
 },
 "nbformat": 4,
 "nbformat_minor": 5
}
