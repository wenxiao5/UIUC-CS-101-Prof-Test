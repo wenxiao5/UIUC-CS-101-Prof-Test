{
 "cells": [
  {
   "cell_type": "markdown",
   "id": "09044e55",
   "metadata": {},
   "source": [
    "## Arrays"
   ]
  },
  {
   "cell_type": "code",
   "execution_count": 1,
   "id": "aed97151",
   "metadata": {},
   "outputs": [],
   "source": [
    "import numpy as np"
   ]
  },
  {
   "cell_type": "code",
   "execution_count": 2,
   "id": "0a69cd33",
   "metadata": {},
   "outputs": [
    {
     "data": {
      "text/plain": [
       "array([[0, 1, 2],\n",
       "       [3, 4, 5],\n",
       "       [6, 7, 8]])"
      ]
     },
     "execution_count": 2,
     "metadata": {},
     "output_type": "execute_result"
    }
   ],
   "source": [
    "mysquare = np.array( [ [ 0,1,2 ],[ 3,4,5 ],[ 6,7,8 ] ] )\n",
    "mysquare"
   ]
  },
  {
   "cell_type": "code",
   "execution_count": 3,
   "id": "68efa923",
   "metadata": {},
   "outputs": [
    {
     "data": {
      "text/plain": [
       "array([0, 1, 2])"
      ]
     },
     "execution_count": 3,
     "metadata": {},
     "output_type": "execute_result"
    }
   ],
   "source": [
    "mysquare[0]"
   ]
  },
  {
   "cell_type": "markdown",
   "id": "a064465d",
   "metadata": {},
   "source": [
    "## Data Type"
   ]
  },
  {
   "cell_type": "code",
   "execution_count": 4,
   "id": "34d563c4",
   "metadata": {},
   "outputs": [
    {
     "data": {
      "text/plain": [
       "dtype('int64')"
      ]
     },
     "execution_count": 4,
     "metadata": {},
     "output_type": "execute_result"
    }
   ],
   "source": [
    "mysquare.dtype"
   ]
  },
  {
   "cell_type": "markdown",
   "id": "469f8e6d",
   "metadata": {},
   "source": [
    "## Arrays Computation"
   ]
  },
  {
   "cell_type": "code",
   "execution_count": 5,
   "id": "ddf812d2",
   "metadata": {},
   "outputs": [
    {
     "data": {
      "text/plain": [
       "[2, 2, 2, 2]"
      ]
     },
     "execution_count": 5,
     "metadata": {},
     "output_type": "execute_result"
    }
   ],
   "source": [
    "r = [ 2,2 ]\n",
    "x = r * 2\n",
    "x"
   ]
  },
  {
   "cell_type": "code",
   "execution_count": 6,
   "id": "b2445a6d",
   "metadata": {},
   "outputs": [
    {
     "data": {
      "text/plain": [
       "array([4, 4])"
      ]
     },
     "execution_count": 6,
     "metadata": {},
     "output_type": "execute_result"
    }
   ],
   "source": [
    "r = [ 2,2 ]\n",
    "s = np.array( r )\n",
    "x = s * 2\n",
    "x"
   ]
  },
  {
   "cell_type": "code",
   "execution_count": 7,
   "id": "3a2edbd7",
   "metadata": {},
   "outputs": [
    {
     "data": {
      "text/plain": [
       "array([5, 5])"
      ]
     },
     "execution_count": 7,
     "metadata": {},
     "output_type": "execute_result"
    }
   ],
   "source": [
    "r = [ 2,2 ]\n",
    "s = np.array( r )\n",
    "x = np.array( [ 3 ] * 2 ) + s\n",
    "x"
   ]
  },
  {
   "cell_type": "markdown",
   "id": "1bc0eaf4",
   "metadata": {},
   "source": [
    "## Array Data"
   ]
  },
  {
   "cell_type": "code",
   "execution_count": 8,
   "id": "11cfbf30",
   "metadata": {},
   "outputs": [
    {
     "name": "stdout",
     "output_type": "stream",
     "text": [
      "(60, 40)\n"
     ]
    }
   ],
   "source": [
    "data = np.loadtxt( 'inflammation.csv',delimiter=',' )\n",
    "print( data.shape )"
   ]
  },
  {
   "cell_type": "code",
   "execution_count": 9,
   "id": "c46e1c04",
   "metadata": {},
   "outputs": [
    {
     "data": {
      "text/plain": [
       "array([  0,   1,   4,   9,  16,  25,  36,  49,  64,  81, 100])"
      ]
     },
     "execution_count": 9,
     "metadata": {},
     "output_type": "execute_result"
    }
   ],
   "source": [
    "myarray = np.array( [ 0,1,2,3,4,5,6,7,8,9,10 ] )\n",
    "myarray_squared = myarray ** 2\n",
    "myarray_squared"
   ]
  },
  {
   "cell_type": "markdown",
   "id": "9f2ac802",
   "metadata": {},
   "source": [
    "## Data Access"
   ]
  },
  {
   "cell_type": "code",
   "execution_count": 10,
   "id": "43cb1f97",
   "metadata": {},
   "outputs": [
    {
     "data": {
      "text/plain": [
       "array([[0, 1, 2],\n",
       "       [3, 4, 5],\n",
       "       [6, 7, 8]])"
      ]
     },
     "execution_count": 10,
     "metadata": {},
     "output_type": "execute_result"
    }
   ],
   "source": [
    "mysquare"
   ]
  },
  {
   "cell_type": "code",
   "execution_count": 11,
   "id": "18020380",
   "metadata": {},
   "outputs": [
    {
     "data": {
      "text/plain": [
       "5"
      ]
     },
     "execution_count": 11,
     "metadata": {},
     "output_type": "execute_result"
    }
   ],
   "source": [
    "mysquare[ 1,2 ]"
   ]
  },
  {
   "cell_type": "code",
   "execution_count": 12,
   "id": "067a09d5",
   "metadata": {},
   "outputs": [
    {
     "data": {
      "text/plain": [
       "5"
      ]
     },
     "execution_count": 12,
     "metadata": {},
     "output_type": "execute_result"
    }
   ],
   "source": [
    "mysquare[ 1 ][ 2 ]"
   ]
  },
  {
   "cell_type": "code",
   "execution_count": 13,
   "id": "5fc5ff1c",
   "metadata": {},
   "outputs": [
    {
     "data": {
      "text/plain": [
       "array([1, 4, 7])"
      ]
     },
     "execution_count": 13,
     "metadata": {},
     "output_type": "execute_result"
    }
   ],
   "source": [
    "mysquare[ :,1 ]"
   ]
  },
  {
   "cell_type": "code",
   "execution_count": 14,
   "id": "96275b62",
   "metadata": {},
   "outputs": [
    {
     "data": {
      "text/plain": [
       "array([3, 4, 5])"
      ]
     },
     "execution_count": 14,
     "metadata": {},
     "output_type": "execute_result"
    }
   ],
   "source": [
    "mysquare[ 1,: ]"
   ]
  },
  {
   "cell_type": "code",
   "execution_count": 15,
   "id": "81d3ce36",
   "metadata": {},
   "outputs": [
    {
     "data": {
      "text/plain": [
       "array([[0, 1],\n",
       "       [3, 4]])"
      ]
     },
     "execution_count": 15,
     "metadata": {},
     "output_type": "execute_result"
    }
   ],
   "source": [
    "mysquare[ 0:2,0:2 ]"
   ]
  },
  {
   "cell_type": "code",
   "execution_count": 16,
   "id": "93b63984",
   "metadata": {},
   "outputs": [
    {
     "data": {
      "text/plain": [
       "array([[0, 1],\n",
       "       [3, 4]])"
      ]
     },
     "execution_count": 16,
     "metadata": {},
     "output_type": "execute_result"
    }
   ],
   "source": [
    "corner = mysquare[ 0:2,0:2 ]\n",
    "corner"
   ]
  },
  {
   "cell_type": "code",
   "execution_count": 17,
   "id": "3d0ae5c3",
   "metadata": {},
   "outputs": [
    {
     "data": {
      "text/plain": [
       "array([[100,   1,   2],\n",
       "       [  3,   4,   5],\n",
       "       [  6,   7,   8]])"
      ]
     },
     "execution_count": 17,
     "metadata": {},
     "output_type": "execute_result"
    }
   ],
   "source": [
    "corner[ 0,0 ] = 100\n",
    "mysquare"
   ]
  },
  {
   "cell_type": "markdown",
   "id": "76903ce9",
   "metadata": {},
   "source": [
    "## Convenience Functions"
   ]
  },
  {
   "cell_type": "code",
   "execution_count": 18,
   "id": "f0c524d8",
   "metadata": {},
   "outputs": [
    {
     "data": {
      "text/plain": [
       "array([[0., 0., 0.],\n",
       "       [0., 0., 0.],\n",
       "       [0., 0., 0.]])"
      ]
     },
     "execution_count": 18,
     "metadata": {},
     "output_type": "execute_result"
    }
   ],
   "source": [
    "np.zeros( ( 3,3 ) )"
   ]
  },
  {
   "cell_type": "code",
   "execution_count": 19,
   "id": "ff94cca9",
   "metadata": {},
   "outputs": [
    {
     "data": {
      "text/plain": [
       "array([[1., 1., 1., 1.],\n",
       "       [1., 1., 1., 1.],\n",
       "       [1., 1., 1., 1.],\n",
       "       [1., 1., 1., 1.]])"
      ]
     },
     "execution_count": 19,
     "metadata": {},
     "output_type": "execute_result"
    }
   ],
   "source": [
    "np.ones( ( 4,4 ) )"
   ]
  },
  {
   "cell_type": "code",
   "execution_count": 20,
   "id": "73f896ec",
   "metadata": {},
   "outputs": [
    {
     "data": {
      "text/plain": [
       "array([[1., 0., 0., 0.],\n",
       "       [0., 1., 0., 0.],\n",
       "       [0., 0., 1., 0.],\n",
       "       [0., 0., 0., 1.]])"
      ]
     },
     "execution_count": 20,
     "metadata": {},
     "output_type": "execute_result"
    }
   ],
   "source": [
    "np.eye( 4 )"
   ]
  },
  {
   "cell_type": "markdown",
   "id": "2ce1edb4",
   "metadata": {},
   "source": [
    "## Matrix"
   ]
  },
  {
   "cell_type": "markdown",
   "id": "7b7a5484",
   "metadata": {},
   "source": [
    "### transpose"
   ]
  },
  {
   "cell_type": "code",
   "execution_count": 21,
   "id": "f49892e5",
   "metadata": {},
   "outputs": [
    {
     "data": {
      "text/plain": [
       "array([[100,   3,   6],\n",
       "       [  1,   4,   7],\n",
       "       [  2,   5,   8]])"
      ]
     },
     "execution_count": 21,
     "metadata": {},
     "output_type": "execute_result"
    }
   ],
   "source": [
    "mysquare=mysquare.T #transpose\n",
    "mysquare"
   ]
  },
  {
   "cell_type": "code",
   "execution_count": 22,
   "id": "6b0d28dd",
   "metadata": {},
   "outputs": [
    {
     "data": {
      "text/plain": [
       "[[100, 3, 6], [1, 4, 7], [2, 5, 8]]"
      ]
     },
     "execution_count": 22,
     "metadata": {},
     "output_type": "execute_result"
    }
   ],
   "source": [
    "mysquare.tolist()"
   ]
  },
  {
   "cell_type": "code",
   "execution_count": 23,
   "id": "d15fdc9a",
   "metadata": {},
   "outputs": [
    {
     "data": {
      "text/plain": [
       "array([[100,   3,   6],\n",
       "       [  1,   4,   7],\n",
       "       [  2,   5,   8]])"
      ]
     },
     "execution_count": 23,
     "metadata": {},
     "output_type": "execute_result"
    }
   ],
   "source": [
    "mysquare"
   ]
  },
  {
   "cell_type": "markdown",
   "id": "edf577a5",
   "metadata": {},
   "source": [
    "### Sort"
   ]
  },
  {
   "cell_type": "code",
   "execution_count": 24,
   "id": "724f8208",
   "metadata": {},
   "outputs": [
    {
     "data": {
      "text/plain": [
       "array([[  3,   6, 100],\n",
       "       [  1,   4,   7],\n",
       "       [  2,   5,   8]])"
      ]
     },
     "execution_count": 24,
     "metadata": {},
     "output_type": "execute_result"
    }
   ],
   "source": [
    "mysquare[0,0]=100\n",
    "mysquare.sort()\n",
    "mysquare"
   ]
  },
  {
   "cell_type": "markdown",
   "id": "c7604107",
   "metadata": {},
   "source": [
    "### Multiplication"
   ]
  },
  {
   "cell_type": "code",
   "execution_count": 25,
   "id": "90978a41",
   "metadata": {},
   "outputs": [
    {
     "data": {
      "text/plain": [
       "array([[    9,    36, 10000],\n",
       "       [    1,    16,    49],\n",
       "       [    4,    25,    64]])"
      ]
     },
     "execution_count": 25,
     "metadata": {},
     "output_type": "execute_result"
    }
   ],
   "source": [
    "mysquare * mysquare# multiply elementwise (not as matrix)"
   ]
  },
  {
   "cell_type": "code",
   "execution_count": 26,
   "id": "75b715c1",
   "metadata": {},
   "outputs": [
    {
     "data": {
      "text/plain": [
       "array([[ 215,  542, 1142],\n",
       "       [  21,   57,  184],\n",
       "       [  27,   72,  299]])"
      ]
     },
     "execution_count": 26,
     "metadata": {},
     "output_type": "execute_result"
    }
   ],
   "source": [
    "mysquare.dot( mysquare )# multiply as matrix"
   ]
  },
  {
   "cell_type": "markdown",
   "id": "ce09e1db",
   "metadata": {},
   "source": [
    "### linspace,arrange"
   ]
  },
  {
   "cell_type": "markdown",
   "id": "7db227ba",
   "metadata": {},
   "source": [
    "'linspace' is a particularly useful method for scientific simulation:"
   ]
  },
  {
   "cell_type": "code",
   "execution_count": 27,
   "id": "8a61777b",
   "metadata": {},
   "outputs": [],
   "source": [
    "xs = np.linspace( 0,10,101 )\n",
    "ys = xs ** 2"
   ]
  },
  {
   "cell_type": "markdown",
   "id": "039821ff",
   "metadata": {},
   "source": [
    "'arange' should be avoided due to numerical error (truncation)."
   ]
  },
  {
   "cell_type": "code",
   "execution_count": 28,
   "id": "61174a8b",
   "metadata": {},
   "outputs": [
    {
     "data": {
      "text/plain": [
       "array([0. , 0.5, 1. , 1.5, 2. , 2.5, 3. , 3.5, 4. , 4.5])"
      ]
     },
     "execution_count": 28,
     "metadata": {},
     "output_type": "execute_result"
    }
   ],
   "source": [
    "np.arange(0, 5, 0.5)"
   ]
  },
  {
   "cell_type": "markdown",
   "id": "4adf1246",
   "metadata": {},
   "source": [
    "## Vector Operations"
   ]
  },
  {
   "cell_type": "code",
   "execution_count": 29,
   "id": "d4d912d5",
   "metadata": {},
   "outputs": [
    {
     "data": {
      "text/plain": [
       "array([ 0.        ,  0.84147098,  0.90929743,  0.14112001, -0.7568025 ,\n",
       "       -0.95892427, -0.2794155 ,  0.6569866 ,  0.98935825,  0.41211849,\n",
       "       -0.54402111])"
      ]
     },
     "execution_count": 29,
     "metadata": {},
     "output_type": "execute_result"
    }
   ],
   "source": [
    "np.sin( myarray )"
   ]
  },
  {
   "cell_type": "code",
   "execution_count": 30,
   "id": "c954ee6a",
   "metadata": {},
   "outputs": [
    {
     "data": {
      "text/plain": [
       "array([0.        , 0.76159416, 0.96402758, 0.99505475, 0.9993293 ,\n",
       "       0.9999092 , 0.99998771, 0.99999834, 0.99999977, 0.99999997,\n",
       "       1.        ])"
      ]
     },
     "execution_count": 30,
     "metadata": {},
     "output_type": "execute_result"
    }
   ],
   "source": [
    "np.tanh( myarray )"
   ]
  },
  {
   "cell_type": "code",
   "execution_count": 31,
   "id": "a0cdb18c",
   "metadata": {},
   "outputs": [
    {
     "data": {
      "text/plain": [
       "array([1.00000000e+00, 3.67879441e-01, 1.35335283e-01, 4.97870684e-02,\n",
       "       1.83156389e-02, 6.73794700e-03, 2.47875218e-03, 9.11881966e-04,\n",
       "       3.35462628e-04, 1.23409804e-04, 4.53999298e-05])"
      ]
     },
     "execution_count": 31,
     "metadata": {},
     "output_type": "execute_result"
    }
   ],
   "source": [
    "np.exp( -myarray )"
   ]
  },
  {
   "cell_type": "code",
   "execution_count": null,
   "id": "6c21b33b",
   "metadata": {},
   "outputs": [],
   "source": []
  },
  {
   "cell_type": "code",
   "execution_count": null,
   "id": "b5977551",
   "metadata": {},
   "outputs": [],
   "source": []
  },
  {
   "cell_type": "code",
   "execution_count": null,
   "id": "1b86f42f",
   "metadata": {},
   "outputs": [],
   "source": []
  },
  {
   "cell_type": "code",
   "execution_count": null,
   "id": "e39fe290",
   "metadata": {},
   "outputs": [],
   "source": []
  },
  {
   "cell_type": "code",
   "execution_count": null,
   "id": "b93728cf",
   "metadata": {},
   "outputs": [],
   "source": []
  },
  {
   "cell_type": "code",
   "execution_count": null,
   "id": "791c2962",
   "metadata": {},
   "outputs": [],
   "source": []
  },
  {
   "cell_type": "code",
   "execution_count": null,
   "id": "f493d32c",
   "metadata": {},
   "outputs": [],
   "source": []
  },
  {
   "cell_type": "code",
   "execution_count": null,
   "id": "2de851ba",
   "metadata": {},
   "outputs": [],
   "source": []
  }
 ],
 "metadata": {
  "kernelspec": {
   "display_name": "Python 3",
   "language": "python",
   "name": "python3"
  },
  "language_info": {
   "codemirror_mode": {
    "name": "ipython",
    "version": 3
   },
   "file_extension": ".py",
   "mimetype": "text/x-python",
   "name": "python",
   "nbconvert_exporter": "python",
   "pygments_lexer": "ipython3",
   "version": "3.8.8"
  }
 },
 "nbformat": 4,
 "nbformat_minor": 5
}
