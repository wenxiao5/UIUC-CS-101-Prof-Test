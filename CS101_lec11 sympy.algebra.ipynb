{
 "cells": [
  {
   "cell_type": "markdown",
   "id": "9e5004be",
   "metadata": {},
   "source": [
    "# Sympy"
   ]
  },
  {
   "cell_type": "markdown",
   "id": "c6cda9bc",
   "metadata": {},
   "source": [
    "## Variable"
   ]
  },
  {
   "cell_type": "code",
   "execution_count": 1,
   "id": "0140d833",
   "metadata": {},
   "outputs": [],
   "source": [
    "import sympy"
   ]
  },
  {
   "cell_type": "code",
   "execution_count": 2,
   "id": "bf9e56e2",
   "metadata": {},
   "outputs": [],
   "source": [
    "x = sympy.S( 'x' )"
   ]
  },
  {
   "cell_type": "code",
   "execution_count": 3,
   "id": "ec2983c3",
   "metadata": {},
   "outputs": [
    {
     "data": {
      "text/latex": [
       "$\\displaystyle x^{2}$"
      ],
      "text/plain": [
       "x**2"
      ]
     },
     "execution_count": 3,
     "metadata": {},
     "output_type": "execute_result"
    }
   ],
   "source": [
    "x**2"
   ]
  },
  {
   "cell_type": "code",
   "execution_count": 4,
   "id": "c30b8adb",
   "metadata": {
    "scrolled": true
   },
   "outputs": [
    {
     "data": {
      "text/latex": [
       "$\\displaystyle e^{- x^{2}}$"
      ],
      "text/plain": [
       "exp(-x**2)"
      ]
     },
     "execution_count": 4,
     "metadata": {},
     "output_type": "execute_result"
    }
   ],
   "source": [
    "sympy.exp(-x**2)"
   ]
  },
  {
   "cell_type": "code",
   "execution_count": 5,
   "id": "05a5107c",
   "metadata": {},
   "outputs": [],
   "source": [
    "sympy.init_printing()"
   ]
  },
  {
   "cell_type": "markdown",
   "id": "e9638646",
   "metadata": {},
   "source": [
    "The init_printing function will find the best output format available on your system."
   ]
  },
  {
   "cell_type": "code",
   "execution_count": 6,
   "id": "3a276645",
   "metadata": {},
   "outputs": [
    {
     "data": {
      "image/png": "[encoded data removed]",
      "text/latex": [
       "$\\displaystyle e^{- x^{2}}$"
      ],
      "text/plain": [
       "   2\n",
       " -x \n",
       "ℯ   "
      ]
     },
     "execution_count": 6,
     "metadata": {},
     "output_type": "execute_result"
    }
   ],
   "source": [
    "sympy.exp( -x**2 )"
   ]
  },
  {
   "cell_type": "code",
   "execution_count": 7,
   "id": "7552476a",
   "metadata": {},
   "outputs": [],
   "source": [
    "r,s = sympy.S( 'r,s' )"
   ]
  },
  {
   "cell_type": "code",
   "execution_count": 8,
   "id": "7f2ff165",
   "metadata": {},
   "outputs": [
    {
     "data": {
      "image/png": "[encoded data removed]",
      "text/latex": [
       "$\\displaystyle r$"
      ],
      "text/plain": [
       "r"
      ]
     },
     "execution_count": 8,
     "metadata": {},
     "output_type": "execute_result"
    }
   ],
   "source": [
    "r"
   ]
  },
  {
   "cell_type": "code",
   "execution_count": 9,
   "id": "2cbf6110",
   "metadata": {},
   "outputs": [
    {
     "data": {
      "image/png": "[encoded data removed]",
      "text/latex": [
       "$\\displaystyle s$"
      ],
      "text/plain": [
       "s"
      ]
     },
     "execution_count": 9,
     "metadata": {},
     "output_type": "execute_result"
    }
   ],
   "source": [
    "s"
   ]
  },
  {
   "cell_type": "code",
   "execution_count": 10,
   "id": "6a43401a",
   "metadata": {},
   "outputs": [
    {
     "data": {
      "image/png": "[encoded data removed]",
      "text/latex": [
       "$\\displaystyle s^{2} + t - 5$"
      ],
      "text/plain": [
       " 2        \n",
       "s  + t - 5"
      ]
     },
     "execution_count": 10,
     "metadata": {},
     "output_type": "execute_result"
    }
   ],
   "source": [
    "eqn = sympy.S( 's**2+t-5' )\n",
    "eqn"
   ]
  },
  {
   "cell_type": "code",
   "execution_count": 11,
   "id": "3220e019",
   "metadata": {},
   "outputs": [],
   "source": [
    "a = sympy.S( 'a' )\n",
    "b = sympy.S( 'b' )\n",
    "c = sympy.S( 'c' )\n",
    "x = sympy.S( 'x' )"
   ]
  },
  {
   "cell_type": "code",
   "execution_count": 12,
   "id": "bca663a9",
   "metadata": {},
   "outputs": [
    {
     "data": {
      "image/png": "[encoded data removed]",
      "text/latex": [
       "$\\displaystyle a x^{2} + b x + c$"
      ],
      "text/plain": [
       "   2          \n",
       "a⋅x  + b⋅x + c"
      ]
     },
     "execution_count": 12,
     "metadata": {},
     "output_type": "execute_result"
    }
   ],
   "source": [
    "eqn = a * x ** 2 + b * x + c\n",
    "eqn"
   ]
  },
  {
   "cell_type": "markdown",
   "id": "bb48ac7e",
   "metadata": {},
   "source": [
    "## Solve"
   ]
  },
  {
   "cell_type": "code",
   "execution_count": 13,
   "id": "20230380",
   "metadata": {},
   "outputs": [
    {
     "data": {
      "image/png": "[encoded data removed]",
      "text/latex": [
       "$\\displaystyle \\left[ \\frac{- b + \\sqrt{- 4 a c + b^{2}}}{2 a}, \\  - \\frac{b + \\sqrt{- 4 a c + b^{2}}}{2 a}\\right]$"
      ],
      "text/plain": [
       "⎡        _____________   ⎛       _____________⎞ ⎤\n",
       "⎢       ╱           2    ⎜      ╱           2 ⎟ ⎥\n",
       "⎢-b + ╲╱  -4⋅a⋅c + b    -⎝b + ╲╱  -4⋅a⋅c + b  ⎠ ⎥\n",
       "⎢─────────────────────, ────────────────────────⎥\n",
       "⎣         2⋅a                     2⋅a           ⎦"
      ]
     },
     "execution_count": 13,
     "metadata": {},
     "output_type": "execute_result"
    }
   ],
   "source": [
    "sympy.solve( a*x**2+b*x+c,x )"
   ]
  },
  {
   "cell_type": "code",
   "execution_count": 14,
   "id": "b24798ad",
   "metadata": {},
   "outputs": [
    {
     "data": {
      "image/png": "[encoded data removed]",
      "text/latex": [
       "$\\displaystyle \\left[ -1\\right]$"
      ],
      "text/plain": [
       "[-1]"
      ]
     },
     "execution_count": 14,
     "metadata": {},
     "output_type": "execute_result"
    }
   ],
   "source": [
    "import sympy\n",
    "x=sympy.S('x')\n",
    "result=sympy.solve(sympy.exp(sympy.pi*sympy.I)-x,x)\n",
    "result"
   ]
  },
  {
   "cell_type": "markdown",
   "id": "464f7d9b",
   "metadata": {},
   "source": [
    "## Polynomials and Factorization"
   ]
  },
  {
   "cell_type": "code",
   "execution_count": 15,
   "id": "44b87544",
   "metadata": {},
   "outputs": [
    {
     "data": {
      "image/png": "[encoded data removed]",
      "text/latex": [
       "$\\displaystyle a \\left(b x + c + x^{2}\\right)$"
      ],
      "text/plain": [
       "  ⎛           2⎞\n",
       "a⋅⎝b⋅x + c + x ⎠"
      ]
     },
     "execution_count": 15,
     "metadata": {},
     "output_type": "execute_result"
    }
   ],
   "source": [
    "sympy.factor( a*x**2+a*b*x+a*c )"
   ]
  },
  {
   "cell_type": "code",
   "execution_count": 16,
   "id": "27223378",
   "metadata": {},
   "outputs": [
    {
     "data": {
      "image/png": "[encoded data removed]",
      "text/latex": [
       "$\\displaystyle x^{2} - 1$"
      ],
      "text/plain": [
       " 2    \n",
       "x  - 1"
      ]
     },
     "execution_count": 16,
     "metadata": {},
     "output_type": "execute_result"
    }
   ],
   "source": [
    "sympy.expand( (x+1)*(x-1) )"
   ]
  },
  {
   "cell_type": "markdown",
   "id": "9caa057a",
   "metadata": {},
   "source": [
    "## Rational Expressions"
   ]
  },
  {
   "cell_type": "code",
   "execution_count": 17,
   "id": "0695fda0",
   "metadata": {},
   "outputs": [
    {
     "data": {
      "image/png": "[encoded data removed]",
      "text/latex": [
       "$\\displaystyle \\frac{1}{60}$"
      ],
      "text/plain": [
       "1/60"
      ]
     },
     "execution_count": 17,
     "metadata": {},
     "output_type": "execute_result"
    }
   ],
   "source": [
    "sympy.S( '1/60' )"
   ]
  },
  {
   "cell_type": "code",
   "execution_count": 18,
   "id": "097cf9de",
   "metadata": {},
   "outputs": [
    {
     "data": {
      "image/png": "[encoded data removed]",
      "text/latex": [
       "$\\displaystyle \\frac{b}{c} + \\frac{x}{a}$"
      ],
      "text/plain": [
       "b   x\n",
       "─ + ─\n",
       "c   a"
      ]
     },
     "execution_count": 18,
     "metadata": {},
     "output_type": "execute_result"
    }
   ],
   "source": [
    "x/a + b/c"
   ]
  },
  {
   "cell_type": "code",
   "execution_count": 19,
   "id": "27f60833",
   "metadata": {},
   "outputs": [
    {
     "data": {
      "image/png": "[encoded data removed]",
      "text/latex": [
       "$\\displaystyle \\frac{a b + c x}{a c}$"
      ],
      "text/plain": [
       "a⋅b + c⋅x\n",
       "─────────\n",
       "   a⋅c   "
      ]
     },
     "execution_count": 19,
     "metadata": {},
     "output_type": "execute_result"
    }
   ],
   "source": [
    "sympy.together( b/c+x/a )"
   ]
  },
  {
   "cell_type": "markdown",
   "id": "f3d1767c",
   "metadata": {},
   "source": [
    "## Trigonometric Functions"
   ]
  },
  {
   "cell_type": "code",
   "execution_count": 20,
   "id": "89495fdd",
   "metadata": {},
   "outputs": [
    {
     "data": {
      "image/png": "[encoded data removed]",
      "text/latex": [
       "$\\displaystyle -1$"
      ],
      "text/plain": [
       "-1"
      ]
     },
     "execution_count": 20,
     "metadata": {},
     "output_type": "execute_result"
    }
   ],
   "source": [
    "sympy.cos( sympy.pi )"
   ]
  },
  {
   "cell_type": "code",
   "execution_count": 21,
   "id": "41410d4f",
   "metadata": {},
   "outputs": [
    {
     "data": {
      "image/png": "[encoded data removed]",
      "text/latex": [
       "$\\displaystyle \\frac{\\sqrt{2}}{2}$"
      ],
      "text/plain": [
       "√2\n",
       "──\n",
       "2 "
      ]
     },
     "execution_count": 21,
     "metadata": {},
     "output_type": "execute_result"
    }
   ],
   "source": [
    "sympy.sin( sympy.pi/4 )"
   ]
  },
  {
   "cell_type": "markdown",
   "id": "10239abd",
   "metadata": {},
   "source": [
    "## Plotting Expressions"
   ]
  },
  {
   "cell_type": "code",
   "execution_count": 22,
   "id": "d1a54af3",
   "metadata": {},
   "outputs": [
    {
     "data": {
      "image/png": "[encoded data removed]",
      "text/plain": [
       "<Figure size 432x288 with 1 Axes>"
      ]
     },
     "metadata": {
      "needs_background": "light"
     },
     "output_type": "display_data"
    },
    {
     "data": {
      "text/plain": [
       "<sympy.plotting.plot.Plot at 0x7f80726e8970>"
      ]
     },
     "execution_count": 22,
     "metadata": {},
     "output_type": "execute_result"
    }
   ],
   "source": [
    "sympy.plotting.plot( x**2 )"
   ]
  },
  {
   "cell_type": "code",
   "execution_count": 23,
   "id": "7177f40d",
   "metadata": {},
   "outputs": [
    {
     "data": {
      "image/png": "[encoded data removed]",
      "text/plain": [
       "<Figure size 432x288 with 1 Axes>"
      ]
     },
     "metadata": {
      "needs_background": "light"
     },
     "output_type": "display_data"
    },
    {
     "data": {
      "text/plain": [
       "<sympy.plotting.plot.Plot at 0x7f8071421160>"
      ]
     },
     "execution_count": 23,
     "metadata": {},
     "output_type": "execute_result"
    }
   ],
   "source": [
    "sympy.plotting.plot( x**2,( x,-2,2 ) )"
   ]
  },
  {
   "cell_type": "code",
   "execution_count": null,
   "id": "1a8c0143",
   "metadata": {},
   "outputs": [],
   "source": []
  },
  {
   "cell_type": "code",
   "execution_count": 24,
   "id": "f7a91eb8",
   "metadata": {},
   "outputs": [
    {
     "name": "stdout",
     "output_type": "stream",
     "text": [
      "<Response [200]>\n"
     ]
    }
   ],
   "source": [
    "import requests\n",
    "url = 'https://www.duckduckgo.com/'\n",
    "website = requests.get( url )\n",
    "print( website )"
   ]
  },
  {
   "cell_type": "code",
   "execution_count": null,
   "id": "6e4ae617",
   "metadata": {},
   "outputs": [],
   "source": []
  },
  {
   "cell_type": "code",
   "execution_count": null,
   "id": "a841e2a9",
   "metadata": {},
   "outputs": [],
   "source": []
  },
  {
   "cell_type": "code",
   "execution_count": null,
   "id": "aa92202b",
   "metadata": {},
   "outputs": [],
   "source": []
  },
  {
   "cell_type": "code",
   "execution_count": null,
   "id": "4a87a638",
   "metadata": {},
   "outputs": [],
   "source": []
  },
  {
   "cell_type": "code",
   "execution_count": null,
   "id": "d6a210a4",
   "metadata": {},
   "outputs": [],
   "source": []
  },
  {
   "cell_type": "code",
   "execution_count": null,
   "id": "dea94be8",
   "metadata": {},
   "outputs": [],
   "source": []
  },
  {
   "cell_type": "code",
   "execution_count": null,
   "id": "d7ba8fcd",
   "metadata": {},
   "outputs": [],
   "source": []
  },
  {
   "cell_type": "code",
   "execution_count": null,
   "id": "33660eb3",
   "metadata": {},
   "outputs": [],
   "source": []
  },
  {
   "cell_type": "code",
   "execution_count": null,
   "id": "54e2d987",
   "metadata": {},
   "outputs": [],
   "source": []
  },
  {
   "cell_type": "code",
   "execution_count": null,
   "id": "1fe88959",
   "metadata": {},
   "outputs": [],
   "source": []
  }
 ],
 "metadata": {
  "kernelspec": {
   "display_name": "Python 3",
   "language": "python",
   "name": "python3"
  },
  "language_info": {
   "codemirror_mode": {
    "name": "ipython",
    "version": 3
   },
   "file_extension": ".py",
   "mimetype": "text/x-python",
   "name": "python",
   "nbconvert_exporter": "python",
   "pygments_lexer": "ipython3",
   "version": "3.8.8"
  }
 },
 "nbformat": 4,
 "nbformat_minor": 5
}
